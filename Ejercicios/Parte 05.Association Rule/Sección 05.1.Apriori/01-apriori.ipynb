{
 "cells": [
  {
   "cell_type": "markdown",
   "metadata": {},
   "source": [
    "# Apriori\n",
    "\n",
    "## Los datos\n",
    "\n",
    "Utilizaremos el conjunto de datos [Market Basket Optimisation de Kaggle](https://www.kaggle.com/roshansharma/market-basket-optimization).\n",
    "\n",
    "El archivo contiene información sobre las compras de diferentes artículos que los clientes realizaron en un centro comercial. Contiene 7501 transacciones, cada una con la lista de artículos vendidos en dicha transacción."
   ]
  },
  {
   "cell_type": "code",
   "execution_count": 2,
   "metadata": {},
   "outputs": [],
   "source": [
    "# Importar las librerías\n",
    "import numpy as np\n",
    "import matplotlib.pyplot as plt\n",
    "import pandas as pd"
   ]
  },
  {
   "cell_type": "code",
   "execution_count": 3,
   "metadata": {},
   "outputs": [
    {
     "name": "stdout",
     "output_type": "stream",
     "text": [
      "              0          1           2                 3             4   \\\n",
      "0         shrimp    almonds     avocado    vegetables mix  green grapes   \n",
      "1        burgers  meatballs        eggs               NaN           NaN   \n",
      "2        chutney        NaN         NaN               NaN           NaN   \n",
      "3         turkey    avocado         NaN               NaN           NaN   \n",
      "4  mineral water       milk  energy bar  whole wheat rice     green tea   \n",
      "\n",
      "                 5     6               7             8             9   \\\n",
      "0  whole weat flour  yams  cottage cheese  energy drink  tomato juice   \n",
      "1               NaN   NaN             NaN           NaN           NaN   \n",
      "2               NaN   NaN             NaN           NaN           NaN   \n",
      "3               NaN   NaN             NaN           NaN           NaN   \n",
      "4               NaN   NaN             NaN           NaN           NaN   \n",
      "\n",
      "               10         11     12     13             14      15  \\\n",
      "0  low fat yogurt  green tea  honey  salad  mineral water  salmon   \n",
      "1             NaN        NaN    NaN    NaN            NaN     NaN   \n",
      "2             NaN        NaN    NaN    NaN            NaN     NaN   \n",
      "3             NaN        NaN    NaN    NaN            NaN     NaN   \n",
      "4             NaN        NaN    NaN    NaN            NaN     NaN   \n",
      "\n",
      "                  16               17       18         19  \n",
      "0  antioxydant juice  frozen smoothie  spinach  olive oil  \n",
      "1                NaN              NaN      NaN        NaN  \n",
      "2                NaN              NaN      NaN        NaN  \n",
      "3                NaN              NaN      NaN        NaN  \n",
      "4                NaN              NaN      NaN        NaN  \n"
     ]
    }
   ],
   "source": [
    "# Importar el data set\n",
    "dataset = pd.read_csv('Market_Basket_Optimisation.csv', header = None)\n",
    "print(dataset.head())\n",
    "transactions = []\n",
    "for i in range(0, 7501):\n",
    "    transactions.append([str(dataset.values[i, j]) for j in range(0,20)])"
   ]
  },
  {
   "cell_type": "code",
   "execution_count": 4,
   "metadata": {},
   "outputs": [
    {
     "data": {
      "text/plain": [
       "['eggs',\n",
       " 'pet food',\n",
       " 'nan',\n",
       " 'nan',\n",
       " 'nan',\n",
       " 'nan',\n",
       " 'nan',\n",
       " 'nan',\n",
       " 'nan',\n",
       " 'nan',\n",
       " 'nan',\n",
       " 'nan',\n",
       " 'nan',\n",
       " 'nan',\n",
       " 'nan',\n",
       " 'nan',\n",
       " 'nan',\n",
       " 'nan',\n",
       " 'nan',\n",
       " 'nan']"
      ]
     },
     "execution_count": 4,
     "metadata": {},
     "output_type": "execute_result"
    }
   ],
   "source": [
    "transactions[10]"
   ]
  },
  {
   "cell_type": "code",
   "execution_count": 5,
   "metadata": {},
   "outputs": [],
   "source": [
    "# Entrenar el algoritmo de Apriori\n",
    "from apyori import apriori\n",
    "rules = apriori(transactions, min_support = 0.003 , min_confidence = 0.3,\n",
    "                min_lift = 3, min_length = 2)\n",
    "\n",
    "# rules = apriori(transactions, min_support = 0.004 , min_length = 2)\n",
    "# Visualización de los resultados\n",
    "results = list(rules)"
   ]
  },
  {
   "cell_type": "code",
   "execution_count": 8,
   "metadata": {},
   "outputs": [],
   "source": [
    "def inspect(results):\n",
    "    rh          = [tuple(result[2][0][0]) for result in results]\n",
    "    lh          = [tuple(result[2][0][1]) for result in results]\n",
    "    supports    = [result[1] for result in results]\n",
    "    confidences = [result[2][0][2] for result in results]\n",
    "    lifts       = [result[2][0][3] for result in results]\n",
    "    return list(zip(rh, lh, supports, confidences, lifts))"
   ]
  },
  {
   "cell_type": "code",
   "execution_count": 9,
   "metadata": {},
   "outputs": [],
   "source": [
    "# Este comando crea un frame para ver los resultados\n",
    "resultDataFrame=pd.DataFrame(inspect(results),\n",
    "                columns=['rhs','lhs','support','confidence','lift'])"
   ]
  },
  {
   "cell_type": "code",
   "execution_count": 10,
   "metadata": {},
   "outputs": [
    {
     "data": {
      "text/html": [
       "<div>\n",
       "<style scoped>\n",
       "    .dataframe tbody tr th:only-of-type {\n",
       "        vertical-align: middle;\n",
       "    }\n",
       "\n",
       "    .dataframe tbody tr th {\n",
       "        vertical-align: top;\n",
       "    }\n",
       "\n",
       "    .dataframe thead th {\n",
       "        text-align: right;\n",
       "    }\n",
       "</style>\n",
       "<table border=\"1\" class=\"dataframe\">\n",
       "  <thead>\n",
       "    <tr style=\"text-align: right;\">\n",
       "      <th></th>\n",
       "      <th>rhs</th>\n",
       "      <th>lhs</th>\n",
       "      <th>support</th>\n",
       "      <th>confidence</th>\n",
       "      <th>lift</th>\n",
       "    </tr>\n",
       "  </thead>\n",
       "  <tbody>\n",
       "    <tr>\n",
       "      <th>0</th>\n",
       "      <td>(mushroom cream sauce,)</td>\n",
       "      <td>(escalope,)</td>\n",
       "      <td>0.005733</td>\n",
       "      <td>0.300699</td>\n",
       "      <td>3.790833</td>\n",
       "    </tr>\n",
       "    <tr>\n",
       "      <th>1</th>\n",
       "      <td>(pasta,)</td>\n",
       "      <td>(escalope,)</td>\n",
       "      <td>0.005866</td>\n",
       "      <td>0.372881</td>\n",
       "      <td>4.700812</td>\n",
       "    </tr>\n",
       "    <tr>\n",
       "      <th>2</th>\n",
       "      <td>(herb &amp; pepper,)</td>\n",
       "      <td>(ground beef,)</td>\n",
       "      <td>0.015998</td>\n",
       "      <td>0.323450</td>\n",
       "      <td>3.291994</td>\n",
       "    </tr>\n",
       "    <tr>\n",
       "      <th>3</th>\n",
       "      <td>(tomato sauce,)</td>\n",
       "      <td>(ground beef,)</td>\n",
       "      <td>0.005333</td>\n",
       "      <td>0.377358</td>\n",
       "      <td>3.840659</td>\n",
       "    </tr>\n",
       "    <tr>\n",
       "      <th>4</th>\n",
       "      <td>(pasta,)</td>\n",
       "      <td>(shrimp,)</td>\n",
       "      <td>0.005066</td>\n",
       "      <td>0.322034</td>\n",
       "      <td>4.506672</td>\n",
       "    </tr>\n",
       "    <tr>\n",
       "      <th>...</th>\n",
       "      <td>...</td>\n",
       "      <td>...</td>\n",
       "      <td>...</td>\n",
       "      <td>...</td>\n",
       "      <td>...</td>\n",
       "    </tr>\n",
       "    <tr>\n",
       "      <th>97</th>\n",
       "      <td>(frozen vegetables, milk, mineral water)</td>\n",
       "      <td>(olive oil, nan)</td>\n",
       "      <td>0.003333</td>\n",
       "      <td>0.301205</td>\n",
       "      <td>4.582834</td>\n",
       "    </tr>\n",
       "    <tr>\n",
       "      <th>98</th>\n",
       "      <td>(soup, frozen vegetables)</td>\n",
       "      <td>(milk, mineral water, nan)</td>\n",
       "      <td>0.003066</td>\n",
       "      <td>0.383333</td>\n",
       "      <td>7.987176</td>\n",
       "    </tr>\n",
       "    <tr>\n",
       "      <th>99</th>\n",
       "      <td>(mineral water, spaghetti, shrimp)</td>\n",
       "      <td>(frozen vegetables, nan)</td>\n",
       "      <td>0.003333</td>\n",
       "      <td>0.390625</td>\n",
       "      <td>4.098011</td>\n",
       "    </tr>\n",
       "    <tr>\n",
       "      <th>100</th>\n",
       "      <td>(frozen vegetables, mineral water, tomatoes)</td>\n",
       "      <td>(spaghetti, nan)</td>\n",
       "      <td>0.003066</td>\n",
       "      <td>0.522727</td>\n",
       "      <td>3.002280</td>\n",
       "    </tr>\n",
       "    <tr>\n",
       "      <th>101</th>\n",
       "      <td>(ground beef, mineral water, tomatoes)</td>\n",
       "      <td>(spaghetti, nan)</td>\n",
       "      <td>0.003066</td>\n",
       "      <td>0.560976</td>\n",
       "      <td>3.221959</td>\n",
       "    </tr>\n",
       "  </tbody>\n",
       "</table>\n",
       "<p>102 rows × 5 columns</p>\n",
       "</div>"
      ],
      "text/plain": [
       "                                              rhs                         lhs  \\\n",
       "0                         (mushroom cream sauce,)                 (escalope,)   \n",
       "1                                        (pasta,)                 (escalope,)   \n",
       "2                                (herb & pepper,)              (ground beef,)   \n",
       "3                                 (tomato sauce,)              (ground beef,)   \n",
       "4                                        (pasta,)                   (shrimp,)   \n",
       "..                                            ...                         ...   \n",
       "97       (frozen vegetables, milk, mineral water)            (olive oil, nan)   \n",
       "98                      (soup, frozen vegetables)  (milk, mineral water, nan)   \n",
       "99             (mineral water, spaghetti, shrimp)    (frozen vegetables, nan)   \n",
       "100  (frozen vegetables, mineral water, tomatoes)            (spaghetti, nan)   \n",
       "101        (ground beef, mineral water, tomatoes)            (spaghetti, nan)   \n",
       "\n",
       "      support  confidence      lift  \n",
       "0    0.005733    0.300699  3.790833  \n",
       "1    0.005866    0.372881  4.700812  \n",
       "2    0.015998    0.323450  3.291994  \n",
       "3    0.005333    0.377358  3.840659  \n",
       "4    0.005066    0.322034  4.506672  \n",
       "..        ...         ...       ...  \n",
       "97   0.003333    0.301205  4.582834  \n",
       "98   0.003066    0.383333  7.987176  \n",
       "99   0.003333    0.390625  4.098011  \n",
       "100  0.003066    0.522727  3.002280  \n",
       "101  0.003066    0.560976  3.221959  \n",
       "\n",
       "[102 rows x 5 columns]"
      ]
     },
     "execution_count": 10,
     "metadata": {},
     "output_type": "execute_result"
    }
   ],
   "source": [
    "#Imprimimos el dataframe con las reglas\n",
    "resultDataFrame"
   ]
  },
  {
   "cell_type": "code",
   "execution_count": null,
   "metadata": {},
   "outputs": [],
   "source": [
    "res.sort_values(by = ['support'],axis=0,ascending=False).head(30)\n",
    "# , ascending=False"
   ]
  }
 ],
 "metadata": {
  "kernelspec": {
   "display_name": "Python 3",
   "language": "python",
   "name": "python3"
  },
  "language_info": {
   "codemirror_mode": {
    "name": "ipython",
    "version": 3
   },
   "file_extension": ".py",
   "mimetype": "text/x-python",
   "name": "python",
   "nbconvert_exporter": "python",
   "pygments_lexer": "ipython3",
   "version": "3.7.1"
  }
 },
 "nbformat": 4,
 "nbformat_minor": 4
}
