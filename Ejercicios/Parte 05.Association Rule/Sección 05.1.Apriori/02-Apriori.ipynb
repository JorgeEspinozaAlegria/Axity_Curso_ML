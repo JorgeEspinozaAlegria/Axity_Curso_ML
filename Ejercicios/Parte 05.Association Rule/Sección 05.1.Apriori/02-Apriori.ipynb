{
 "cells": [
  {
   "cell_type": "markdown",
   "metadata": {},
   "source": [
    "# Algoritmo Apriori - Mining Movie Choices"
   ]
  },
  {
   "cell_type": "markdown",
   "metadata": {},
   "source": [
    "Las reglas de asociación se utilizan para identificar las relaciones subyacentes entre diferentes elementos. Tomemos un ejemplo de una Plataforma de películas donde los clientes pueden alquilar o comprar películas. Por lo general, hay un patrón en lo que compran los clientes. Hay patrones claros, por ejemplo, el tema Superhéroe o la categoría Niños.\n",
    "\n",
    "Se pueden generar más ganancias si se puede identificar la relación entre las películas.\n",
    "\n",
    "Si las películas A y B se compran con frecuencia juntas, este patrón puede explotarse para aumentar las ganancias\n",
    "\n",
    "Las personas que compran o alquilan una de estas dos películas pueden ser empujadas a alquilar o comprar la otra, a través de campañas o sugerencias dentro de la plataforma.\n",
    "\n",
    "Hoy estamos muy familiarizados con estos motores de recomendación en Netflix, Amazon, por nombrar los más destacados."
   ]
  },
  {
   "cell_type": "markdown",
   "metadata": {},
   "source": [
    "El Algotitmo de Apriori cae en la categoría de Regla de Asociación."
   ]
  },
  {
   "cell_type": "markdown",
   "metadata": {},
   "source": [
    "### Implementando el algoritmo Apriori\n",
    "\n",
    "En esta sección, utilizaremos el algoritmo Apriori para encontrar reglas que describan las asociaciones entre diferentes productos a las que se les dan 7500 transacciones en el transcurso de un mes. El conjunto de datos de las películas se selecciona al azar, estos no son datos reales.\n",
    "\n",
    "Para instalar La biblioteca apyori, usa el siguiente comando en tu entorno: pip install apyori"
   ]
  },
  {
   "cell_type": "markdown",
   "metadata": {},
   "source": [
    "#### Importar las librerías\n"
   ]
  },
  {
   "cell_type": "code",
   "execution_count": 1,
   "metadata": {},
   "outputs": [],
   "source": []
  },
  {
   "cell_type": "markdown",
   "metadata": {},
   "source": [
    "#### Importa el conjunto de datos movie_dataset.csv y muestra el número de renglones"
   ]
  },
  {
   "cell_type": "code",
   "execution_count": null,
   "metadata": {},
   "outputs": [],
   "source": [
    "#Escribe tu código aqui\n"
   ]
  },
  {
   "cell_type": "code",
   "execution_count": 2,
   "metadata": {},
   "outputs": [
    {
     "name": "stdout",
     "output_type": "stream",
     "text": [
      "7501\n"
     ]
    }
   ],
   "source": []
  },
  {
   "cell_type": "markdown",
   "metadata": {},
   "source": [
    "\n",
    "Ahora usaremos el algoritmo Apriori para descubrir qué artículos se venden comúnmente juntos, de modo que el propietario de la tienda pueda tomar medidas para colocar los artículos relacionados juntos o publicitarlos juntos para obtener mayores ganancias."
   ]
  },
  {
   "cell_type": "markdown",
   "metadata": {},
   "source": [
    "#### EDA\n",
    "\n",
    "La biblioteca Apriori que vamos a utilizar requiere que nuestro conjunto de datos tenga la forma de una lista de listas, donde todo el conjunto de datos es una lista grande y cada transacción en el conjunto de datos es una lista interna dentro de la lista grande externa. Actualmente tenemos datos en forma de un dataframe de pandas. Para convertir nuestro dataframe de pandas en una lista de listas, ejecuta el siguiente script:"
   ]
  },
  {
   "cell_type": "code",
   "execution_count": 8,
   "metadata": {},
   "outputs": [],
   "source": [
    "records = []  \n",
    "for i in range(0, num_records):  \n",
    "    records.append([str(movie_data.values[i,j]) for j in range(0, 20)])"
   ]
  },
  {
   "cell_type": "markdown",
   "metadata": {},
   "source": [
    "#### Generando el modelo Apriori\n",
    "\n",
    "\n",
    "Ahora podemos especificar los parámetros de la clase a priori.\n",
    "\n",
    "- La lista\n",
    "- min_support\n",
    "- min_confidence\n",
    "- min_lift\n",
    "- min_length (la cantidad mínima de elementos que desea en sus reglas, generalmente 2)\n",
    "\n",
    "Supongamos que solo queremos películas que se compren al menos 40 veces en un mes. El soporte para esos artículos se puede calcular como 40/7500 = 0.0053. La confianza mínima para las reglas es del 20% o 0.2. De manera similar, especificamos el valor para lift como 3 y finalmente min_length es 2 ya que queremos al menos dos productos en nuestras reglas. Estos valores se seleccionan principalmente de forma arbitraria y deben ajustarse empíricamente.\n",
    "\n",
    "**Genera el algoritmo apriori con los siguientes parametros min_support 0.0053, min_confidence 0.20, min_lift 3, min_length 2**"
   ]
  },
  {
   "cell_type": "code",
   "execution_count": 4,
   "metadata": {},
   "outputs": [],
   "source": []
  },
  {
   "cell_type": "markdown",
   "metadata": {},
   "source": [
    "**Valida la longitud de la lista resultante**"
   ]
  },
  {
   "cell_type": "code",
   "execution_count": null,
   "metadata": {},
   "outputs": [],
   "source": [
    "#Escribe tu código aqui\n"
   ]
  },
  {
   "cell_type": "code",
   "execution_count": 5,
   "metadata": {},
   "outputs": [
    {
     "name": "stdout",
     "output_type": "stream",
     "text": [
      "32\n"
     ]
    }
   ],
   "source": []
  },
  {
   "cell_type": "markdown",
   "metadata": {},
   "source": [
    "**Visualiza los resultados del modelo**"
   ]
  },
  {
   "cell_type": "code",
   "execution_count": null,
   "metadata": {},
   "outputs": [],
   "source": [
    "#Escribe tu código aqui\n"
   ]
  },
  {
   "cell_type": "code",
   "execution_count": 6,
   "metadata": {},
   "outputs": [
    {
     "name": "stdout",
     "output_type": "stream",
     "text": [
      "RelationRecord(items=frozenset({'Green Lantern', 'Red Sparrow'}), support=0.005732568990801226, ordered_statistics=[OrderedStatistic(items_base=frozenset({'Red Sparrow'}), items_add=frozenset({'Green Lantern'}), confidence=0.3006993006993007, lift=3.790832696715049)])\n"
     ]
    }
   ],
   "source": []
  },
  {
   "cell_type": "markdown",
   "metadata": {},
   "source": [
    "**El siguiente script muestra la regla en un dataframe de una manera mucho más legible:**"
   ]
  },
  {
   "cell_type": "code",
   "execution_count": 7,
   "metadata": {},
   "outputs": [
    {
     "name": "stdout",
     "output_type": "stream",
     "text": [
      "          Title 1                Title 2  Support Confidence     Lift\n",
      "0   Green Lantern            Red Sparrow  0.00573    0.30069  3.79083\n",
      "1   Green Lantern              Star Wars  0.00586    0.37288  4.70081\n",
      "2   Kung Fu Panda                Jumanji  0.01599    0.32345  3.29199\n",
      "3    Wonder Woman                Jumanji  0.00533    0.37735  3.84065\n",
      "4     Spiderman 3  The Spy Who Dumped Me  0.00799    0.27149  4.12241\n",
      "5            Coco                 Intern  0.00533    0.23255  3.25451\n",
      "6   Green Lantern            Red Sparrow  0.00573    0.30069  3.79083\n",
      "7   Green Lantern                    nan  0.00586    0.37288  4.70081\n",
      "8          Intern             Tomb Rider  0.00866    0.31100  3.16532\n",
      "9          Intern           The Revenant  0.00719    0.30508  3.20061\n",
      "10         Intern            Spiderman 3  0.00573    0.20574  3.12402\n",
      "11         Intern           The Revenant  0.00599    0.21531  3.01314\n",
      "12         Intern            World War Z  0.00666    0.23923  3.49804\n",
      "13       Iron Man             Tomb Rider  0.00533    0.32258  3.28314\n",
      "14  Kung Fu Panda          Ninja Turtles  0.00666    0.39062  3.97568\n",
      "15  Kung Fu Panda             Tomb Rider  0.00639    0.39344  4.00435\n",
      "16  Kung Fu Panda                    nan  0.01599    0.32345  3.29199\n",
      "17     Tomb Rider           The Revenant  0.00599    0.52325  3.00531\n",
      "18            nan           Wonder Woman  0.00533    0.37735  3.84065\n",
      "19     Tomb Rider                  Moana  0.00719    0.20300  3.08250\n",
      "20    Spiderman 3                    nan  0.00799    0.27149  4.13077\n",
      "21           Coco                 Intern  0.00533    0.23255  3.26059\n",
      "22         Intern             Tomb Rider  0.00866    0.31100  3.16532\n",
      "23         Intern                    nan  0.00719    0.30508  3.20061\n",
      "24         Intern            Spiderman 3  0.00573    0.20574  3.13036\n",
      "25         Intern                    nan  0.00599    0.21531  3.01878\n",
      "26         Intern                    nan  0.00666    0.23923  3.49804\n",
      "27       Iron Man             Tomb Rider  0.00533    0.32258  3.28314\n",
      "28  Kung Fu Panda                    nan  0.00666    0.39062  3.97568\n",
      "29  Kung Fu Panda             Tomb Rider  0.00639    0.39344  4.00435\n",
      "30     Tomb Rider                    nan  0.00599    0.52325  3.00531\n",
      "31     Tomb Rider                  Moana  0.00719    0.20300  3.08876\n"
     ]
    }
   ],
   "source": [
    "results = []\n",
    "for item in association_results:\n",
    "    \n",
    "    # first index of the inner list\n",
    "    # Contains base item and add item\n",
    "    pair = item[0] \n",
    "    items = [x for x in pair]\n",
    "    \n",
    "    value0 = str(items[0])\n",
    "    value1 = str(items[1])\n",
    "\n",
    "    #second index of the inner list\n",
    "    value2 = str(item[1])[:7]\n",
    "\n",
    "    #third index of the list located at 0th\n",
    "    #of the third index of the inner list\n",
    "\n",
    "    value3 = str(item[2][0][2])[:7]\n",
    "    value4 = str(item[2][0][3])[:7]\n",
    "    \n",
    "    rows = (value0, value1,value2,value3,value4)\n",
    "    results.append(rows)\n",
    "    \n",
    "labels = ['Title 1','Title 2','Support','Confidence','Lift']\n",
    "movie_suggestion = pd.DataFrame.from_records(results, columns = labels)\n",
    "\n",
    "print(movie_suggestion)"
   ]
  },
  {
   "cell_type": "markdown",
   "metadata": {},
   "source": [
    "## Conclusión\n",
    "\n",
    "Los algoritmos de minería de reglas de asociación como Apriori son muy útiles para encontrar asociaciones simples entre nuestros elementos de datos. Son fáciles de implementar y fáciles de explicar. Google, Amazon, Netflix, Spotify utilizan algoritmos más complejos para su motor de recomendaciones."
   ]
  }
 ],
 "metadata": {
  "kernelspec": {
   "display_name": "Python 3",
   "language": "python",
   "name": "python3"
  },
  "language_info": {
   "codemirror_mode": {
    "name": "ipython",
    "version": 3
   },
   "file_extension": ".py",
   "mimetype": "text/x-python",
   "name": "python",
   "nbconvert_exporter": "python",
   "pygments_lexer": "ipython3",
   "version": "3.7.6"
  }
 },
 "nbformat": 4,
 "nbformat_minor": 4
}
